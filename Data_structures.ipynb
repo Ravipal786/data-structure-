{
  "nbformat": 4,
  "nbformat_minor": 0,
  "metadata": {
    "colab": {
      "provenance": []
    },
    "kernelspec": {
      "name": "python3",
      "display_name": "Python 3"
    },
    "language_info": {
      "name": "python"
    }
  },
  "cells": [
    {
      "cell_type": "markdown",
      "source": [
        "# Theory Question\n"
      ],
      "metadata": {
        "id": "BDmqFu2SLSWU"
      }
    },
    {
      "cell_type": "markdown",
      "source": [
        "1. What are data structures, and why are they important ?\n",
        "   - Data structures are ways of organizing, storing, and managing data in a computer so that it can be accessed and modified efficiently. They provide a means to manage large amounts of data in various formats, and each type of data structure is suited for different kinds of tasks and it is important due to efficiency, optimized used memory, problem solving, performance and simplification.\n",
        "\n",
        "     Types of data structures:\n",
        "\n",
        "     Arrays: A collection of elements, typically of the same data type, stored in a fixed-size sequence.\n",
        "\n",
        "     Linked Lists: A collection of nodes where each node contains data and a reference (link) to the next node in the sequence.\n",
        "\n",
        "     Stacks: A collection that follows the Last In, First Out (LIFO) principle. The last element added is the first one to be removed.\n",
        "\n",
        "     Queues: A collection that follows the First In, First Out (FIFO) principle. The first element added is the first one to be removed.\n",
        "\n",
        "     Trees: A hierarchical structure where each node has a value and references to child nodes, like a family tree or file system.\n",
        "\n",
        "     Graphs: A collection of nodes (vertices) connected by edges, used to represent relationships like networks, roads, or social networks.\n",
        "\n",
        "     Hash Tables: A structure that uses a hash function to map keys to specific values, allowing for fast access and retrieval.\n",
        "\n",
        "2. Explain the difference between mutable and immutable data types with examples ?\n",
        "   - The difference between mutable and immutable data types lies in whether or not the value of the object can be changed after it is created.\n",
        "     \n",
        "    1. Mutable Data Types:\n",
        "\n",
        "     Mutable data types are types of data that can be modified or changed after they are created. When you change a mutable object, the object itself is altered, and no new object is created.\n",
        "\n",
        "     Examples of Mutable Data Types in Python:\n",
        "\n",
        "     a. Lists\n",
        "\n",
        "     b. Dictionaries\n",
        "\n",
        "     c. Sets\n",
        "\n",
        "     2. Immutable Data Types:\n",
        "\n",
        "     Immutable data types are types of data that cannot be modified after they are created. When you try to change an immutable object, a new object is created instead of modifying the original object.\n",
        "\n",
        "     Examples of Immutable Data Types in Python:\n",
        "     Tuples\n",
        "\n",
        "     a. Strings\n",
        "\n",
        "     b. Integers\n",
        "\n",
        "     c. Floats\n",
        "\n",
        "     d. Booleans\n",
        "\n",
        "3.  What are the main differences between lists and tuples in Python ?\n",
        "    - In Python, lists and tuples are both used to store collections of items, but they differ in several important ways. Here are the main differences between lists and tuples:\n",
        "    \n",
        "     Mutability:\n",
        "\n",
        "     Lists are mutable, meaning you can change their contents after creation. You can modify, add, or remove elements from a list.\n",
        "\n",
        "     Tuples are immutable, meaning once a tuple is created, its contents cannot be changed. Any attempt to modify a tuple will result in an error.\n",
        "\n",
        "     Syntax:\n",
        "\n",
        "     Lists are created using square brackets [].\n",
        "\n",
        "     Tuples are created using parentheses ().\n",
        "\n",
        "     Performance:\n",
        "\n",
        "     Lists are generally slower than tuples in terms of performance because they are more flexible and support more operations (like adding/removing elements).\n",
        "\n",
        "     Tuples are faster than lists for iteration and access due to their immutability. Since tuples are fixed in size and do not require memory allocation for changes, they offer performance advantages for certain operations.\n",
        "\n",
        "     Use Cases:\n",
        "\n",
        "     Lists are ideal when you need a collection of items that might change over time. For example, when you want to add, remove, or modify elements, lists are a better choice.\n",
        "\n",
        "     Tuples are ideal when you need an ordered collection of items that should remain constant throughout the program. They are often used for data that is not meant to be modified, like coordinates, function return values, or storing constants.\n",
        "\n",
        "     Methods:\n",
        "\n",
        "     Lists have many built-in methods for modifying the contents, such as append(), extend(), remove(), pop(), and sort().\n",
        "\n",
        "     Tuples have fewer methods because they are immutable. For example, they only have methods like count() and index().\n",
        "\n",
        "4.  Describe how dictionaries store data ?\n",
        "    - In Python, a dictionary is a built-in data structure that stores data in key-value pairs. The data is organized such that each key is unique and maps to a value. This allows for efficient lookup, insertion, and deletion of data.    \n",
        "\n",
        "5. Why might you use a set instead of a list in Python ?\n",
        "   - In Python, a set might be used instead of a list for several reasons:\n",
        "\n",
        "     Uniqueness of Elements:\n",
        "\n",
        "     A set automatically removes duplicates. If you want to store only unique elements and avoid manual checks for duplicates, a set is ideal. In contrast, a list can contain duplicate elements.\n",
        "\n",
        "     Efficiency for Membership Tests:\n",
        "\n",
        "     Checking if an item exists in a set (using in) is generally faster than doing the same in a list. Sets are implemented as hash tables, which allow for average O(1) time complexity for membership tests, while lists require O(n) time in the worst case.\n",
        "\n",
        "     Set Operations:\n",
        "\n",
        "     Sets support various mathematical operations like union, intersection, difference, and symmetric difference directly, making them ideal for operations involving multiple collections of unique elements. Lists do not support these operations natively without extra code or converting them to sets.\n",
        "\n",
        "     Immutability (for Set Operations):\n",
        "\n",
        "     While this is more of a specific case, you may need to store elements that are only comparable based on their value (e.g., dictionaries or frozensets). You can use sets for this purpose if the elements are mutable and you want to ensure uniqueness.\n",
        "\n",
        "     Memory Efficiency:\n",
        "\n",
        "     Sets can be more memory efficient than lists for storing unique elements, as they do not need to maintain order or allow duplicates, making them smaller in certain situations.\n",
        "\n",
        "6. What is a string in Python, and how is it different from a list ?\n",
        "   - A string in Python is a sequence of characters. It is used to represent textual data. Strings are enclosed in single quotes (') or double quotes (\"), and they can contain letters, numbers, symbols, or whitespace.   \n",
        "\n",
        "7. How do tuples ensure data integrity in Python?\n",
        "\n",
        "  - Tuples in Python help ensure data integrity because they are immutable, meaning once a tuple is created, its contents cannot be modified. This immutability provides several benefits for maintaining the integrity of data in Python programs.\n",
        "\n",
        "     Immutability: The key feature of tuples is their immutability, which guarantees that once data is stored in a tuple, it cannot be altered.\n",
        "\n",
        "     Prevents Accidental Modification: You cannot modify, add, or remove elements from a tuple, preventing accidental changes to critical data.\n",
        "\n",
        "     Hashability: Tuples can be used as keys in dictionaries and stored in sets, ensuring consistency and data integrity when used in such contexts.\n",
        "\n",
        "      Thread-Safety: Tuples can be shared safely across threads, avoiding potential issues with concurrent data modifications.\n",
        "\n",
        "8. What is a hash table, and how does it relate to dictionaries in Python ?\n",
        "\n",
        "   - A hash table is a data structure that provides a way to store and retrieve data efficiently using a hash function.\n",
        "   \n",
        "   In Python, the dict (dictionary) type is implemented using a hash table. A dictionary is an unordered collection of key-value pairs where the keys are unique, and each key maps to a value.\n",
        "\n",
        "9. Can lists contain different data types in Python ?\n",
        "\n",
        "   - Yes, lists in Python can contain elements of different data types. Python lists are heterogeneous containers, meaning they are not restricted to holding only one type of data. You can mix different data types, such as integers, strings, floats, and even other lists or objects, all within the same list.\n",
        "\n",
        "\n",
        "10.  Explain why strings are immutable in Python ?\n",
        "\n",
        "     - the immutability of strings in Python is a design choice that balances performance, memory efficiency, and safety. It ensures that string operations are fast, avoids potential concurrency issues, and makes strings reliable for use as dictionary keys.  \n",
        "\n",
        "11. What advantages do dictionaries offer over lists for certain tasks ?\n",
        "\n",
        "   - Dictionaries in Python offer several advantages over lists for certain tasks, particularly when it comes to organizing and accessing data efficiently. Here's a breakdown of the key advantages:     \n",
        "\n",
        "   1. Faster Lookups (Average O(1) Time Complexity):\n",
        "    \n",
        "     Dictionaries: They are implemented as hash tables, which allow for average constant-time (O(1)) complexity for lookups, insertions, and deletions. This means that finding a value by its key (or checking if a key exists) is generally much faster than searching through a list.\n",
        "\n",
        "     Lists: Accessing an element by index is fast (O(1)), but searching for a value by its content requires a linear scan (O(n)), which is less efficient.\n",
        "\n",
        "     2. Key-Based Access:\n",
        "\n",
        "     Dictionaries: Allow you to store and retrieve values using unique keys, which can be any immutable data type (e.g., strings, numbers, tuples). This makes dictionaries ideal when you need to associate data with specific identifiers (keys).\n",
        "\n",
        "     Lists: Elements are accessed by their position (index), and you can't easily associate an item with a meaningful identifier unless you manually manage indexes or structure the list.\n",
        "\n",
        "     3. Flexible and Intuitive Data Structure:\n",
        "\n",
        "     Dictionaries: Provide a natural way to represent associations or mappings between keys and values.\n",
        "\n",
        "     Lists: While lists can store a sequence of items, they are not ideal when you need to map one piece of data to another directly, as you would need to maintain separate lists for the keys and values or use indexes.\n",
        "\n",
        "12. Describe a scenario where using a tuple would be preferable over a list.\n",
        "\n",
        "    - A tuple would be preferable over a list in scenarios where the data is immutable, fixed, and should not be modified after creation.\n",
        "\n",
        "     In this scenario, a tuple is preferable because:\n",
        "\n",
        "     1. The data (coordinates) is immutable and fixed.\n",
        "\n",
        "     2. Performance benefits can be gained from using a tuple over a list.\n",
        "\n",
        "     3. The immutability ensures the integrity of the data.\n",
        "\n",
        "     4. The tuple can be used as a dictionary key or in a set.\n",
        "\n",
        "13. How do sets handle duplicate values in Python?\n",
        "    - In Python, sets automatically eliminate duplicate values. This means that when you try to add an element to a set, if that element is already present, it won't be added again. A set only keeps unique elements, and any duplicates are discarded.\n",
        "\n",
        "14. How does the “in” keyword work differently for lists and dictionaries?\n",
        "  - 1. In Lists:\n",
        "\n",
        "        When used with a list, the in keyword checks if a specific value exists within the list. It iterates through the elements of the list to see if the value is present.\n",
        "\n",
        "     2. In Dictionaries:\n",
        "\n",
        "       When used with a dictionary, the in keyword checks if a key exists in the dictionary, not the values. It tests whether the key is present in the dictionary's key set.\n",
        "\n",
        "15.  Can you modify the elements of a tuple? Explain why or why not?\n",
        "\n",
        "     - No, you cannot modify the elements of a tuple in Python once it has been created. This is because tuples are immutable data structures.\n",
        "\n",
        "     Immutability means that the data inside a tuple cannot be changed, added to, or removed after it is created. This property is in contrast to lists, which are mutable and allow modification of their elements.\n",
        "\n",
        "     The immutability of tuples ensures that they are hashable, which means they can be used as keys in dictionaries or elements of sets. This property requires that the contents of the tuple remain unchanged.\n",
        "\n",
        "\n",
        "16. What is a nested dictionary, and give an example of its use case?\n",
        "    - A nested dictionary in Python is a dictionary where the values associated with keys are themselves dictionaries.    "
      ],
      "metadata": {
        "id": "R1mVaM0hLfbN"
      }
    },
    {
      "cell_type": "code",
      "execution_count": 3,
      "metadata": {
        "id": "EC30WO8fK5cZ"
      },
      "outputs": [],
      "source": [
        "nested_dict = {\n",
        "    'person1': {'name': 'Alice', 'age': 30, 'city': 'New York'},\n",
        "    'person2': {'name': 'Bob', 'age': 25, 'city': 'Los Angeles'},\n",
        "    'person3': {'name': 'Charlie', 'age': 35, 'city': 'Chicago'}\n",
        "}\n"
      ]
    },
    {
      "cell_type": "markdown",
      "source": [
        "17. Describe the time complexity of accessing elements in a dictionary ?\n",
        "\n",
        "    - The time complexity of accessing elements in a Python dictionary is O(1) on average, meaning it takes constant time to retrieve a value a\n",
        "     ssociated with a key, regardless of the size of the dictionary.\n",
        "\n",
        "     Python dictionaries are implemented using hash tables. When you access a value by its key, Python computes the hash value for the key and uses this hash to directly find the corresponding value in the dictionary. This allows the dictionary to retrieve the value in constant time, without having to search through all the elements.\n",
        "\n",
        "18. In what situations are lists preferred over dictionaries?\n",
        "\n",
        "    - Lists and dictionaries in Python are both commonly used data structures, but they serve different purposes and have distinct characteristics.\n",
        "\n",
        "     1. When the order of elements is important.\n",
        "\n",
        "     2. When you need to access elements via index (position)\n",
        "\n",
        "     3. When the data is homogeneous (elements of the same type).\n",
        "\n",
        "     4. When you don't need the key-value mapping that dictionaries provide.\n",
        "\n",
        "     5. When you need a more memory-efficient collection of elements.\n",
        "\n",
        "     6. When you are performing simple iterations over the collection.\n",
        "\n",
        "19.  Why are dictionaries considered unordered, and how does that affect data retrieval?\n",
        "    - In Python, dictionaries are considered unordered (prior to Python 3.7) because the elements (key-value pairs) in a dictionary do not maintain a guaranteed order of insertion.\n",
        "\n",
        "     Unpredictable Order: In Python versions before 3.7, if you were to iterate over the dictionary, you couldn't expect to retrieve the items in the order in which they were added. The items were effectively unordered.\n",
        "\n",
        "20. Explain the difference between a list and a dictionary in terms of data retrieval.\n",
        "    - In Python, both lists and dictionaries are used to store collections of data, but they differ significantly in terms of how data is retrieved, both in terms of access methods and performance.\n",
        "\n",
        "    1. Data Structure and Access Method:\n",
        "       List:\n",
        "\n",
        "     A list is an ordered collection of elements, indexed by their position (integer indices starting from 0).\n",
        "\n",
        "     Data retrieval in a list is based on the index of the element.\n",
        "\n",
        "     To retrieve an element, you provide its position in the list   \n",
        "\n",
        "     Dictionary:\n",
        "\n",
        "     A dictionary is an unordered collection of key-value pairs, where each key maps to a corresponding value.\n",
        "\n",
        "     Data retrieval in a dictionary is based on the key rather than an index.\n",
        "\n",
        "     To retrieve an element, you provide its key, not the position\n",
        "\n",
        "     2. Time Complexity for Data Retrieval:\n",
        "\n",
        "     List:\n",
        "\n",
        "     The time complexity for accessing an element in a list by index is O(1) because lists are implemented as dynamic arrays that allow direct access to elements by position.\n",
        "\n",
        "     Dictionary:\n",
        "\n",
        "     The time complexity for accessing an element in a dictionary by key is O(1) on average, thanks to the underlying hash table structure that allows fast lookups.\n",
        "\n",
        "     3. Order and Indexing:\n",
        "       \n",
        "     List:\n",
        "\n",
        "     Ordered: Lists maintain the order of elements as they are inserted. Each element has a fixed position, and you can access it using its index.\n",
        "\n",
        "     You cannot retrieve a list element by a key, as lists only support access via position (index).\n",
        "\n",
        "     Dictionary:\n",
        "\n",
        "     Unordered (before Python 3.7): In versions before Python 3.7, dictionaries did not guarantee the order of key-value pairs. In these versions, retrieving elements by key did not guarantee any specific order.\n",
        "\n",
        "     Ordered (since Python 3.7): In Python 3.7 and later, dictionaries preserve the insertion order. However, they are still accessed by key, not by index."
      ],
      "metadata": {
        "id": "aJ2TSYhun-5T"
      }
    },
    {
      "cell_type": "markdown",
      "source": [
        "# Practical Question\n"
      ],
      "metadata": {
        "id": "hwzErK7inkPO"
      }
    },
    {
      "cell_type": "markdown",
      "source": [
        "1. Write a code to create a string with your name and print it?\n",
        "\n"
      ],
      "metadata": {
        "id": "AEV2SSRynqYN"
      }
    },
    {
      "cell_type": "code",
      "source": [
        "# Creating a string with the name\n",
        "name = \"Ravi\"\n",
        "\n",
        "# Printing the string\n",
        "print(name)\n"
      ],
      "metadata": {
        "colab": {
          "base_uri": "https://localhost:8080/"
        },
        "id": "bRBsQlzAoFcD",
        "outputId": "5329c3d2-efc4-4118-9d61-90de114195a5"
      },
      "execution_count": 1,
      "outputs": [
        {
          "output_type": "stream",
          "name": "stdout",
          "text": [
            "Ravi\n"
          ]
        }
      ]
    },
    {
      "cell_type": "markdown",
      "source": [
        "2. Write a code to find the length of the string \"Hello World\"?"
      ],
      "metadata": {
        "id": "vky514oQoQ5y"
      }
    },
    {
      "cell_type": "code",
      "source": [
        "# Defining the string\n",
        "string = \"Hello World\"\n",
        "\n",
        "# Finding the length of the string\n",
        "length = len(string)\n",
        "\n",
        "# Printing the length\n",
        "print(\"The length of the string is:\", length)\n"
      ],
      "metadata": {
        "colab": {
          "base_uri": "https://localhost:8080/"
        },
        "id": "4kQWoMd_n-GQ",
        "outputId": "ce2c7b92-49d4-4417-8b97-8e5919f1a19e"
      },
      "execution_count": 2,
      "outputs": [
        {
          "output_type": "stream",
          "name": "stdout",
          "text": [
            "The length of the string is: 11\n"
          ]
        }
      ]
    },
    {
      "cell_type": "markdown",
      "source": [
        "3. Write a code to slice the first 3 characters from the string \"Python Programming\"?"
      ],
      "metadata": {
        "id": "5-jVWRL2o9Lh"
      }
    },
    {
      "cell_type": "code",
      "source": [
        "# Defining the string\n",
        "string = \"Python Programming\"\n",
        "\n",
        "# Slicing the first 3 characters\n",
        "sliced_string = string[:3]\n",
        "\n",
        "# Printing the sliced string\n",
        "print(sliced_string)\n"
      ],
      "metadata": {
        "colab": {
          "base_uri": "https://localhost:8080/"
        },
        "id": "TKWixz4co52c",
        "outputId": "1c2916c0-3252-4bcc-cd95-91ca7d82f4ec"
      },
      "execution_count": 3,
      "outputs": [
        {
          "output_type": "stream",
          "name": "stdout",
          "text": [
            "Pyt\n"
          ]
        }
      ]
    },
    {
      "cell_type": "markdown",
      "source": [
        "4. Write a code to convert the string \"hello\" to uppercase?"
      ],
      "metadata": {
        "id": "bhxZW0mapSqB"
      }
    },
    {
      "cell_type": "code",
      "source": [
        "# Defining the string\n",
        "string = \"hello\"\n",
        "\n",
        "# Converting the string to uppercase\n",
        "uppercase_string = string.upper()\n",
        "\n",
        "# Printing the uppercase string\n",
        "print(uppercase_string)\n"
      ],
      "metadata": {
        "colab": {
          "base_uri": "https://localhost:8080/"
        },
        "id": "lpG9tM4GpPNt",
        "outputId": "c4a02050-61bd-4364-887c-b4cf4eb70bd4"
      },
      "execution_count": 4,
      "outputs": [
        {
          "output_type": "stream",
          "name": "stdout",
          "text": [
            "HELLO\n"
          ]
        }
      ]
    },
    {
      "cell_type": "markdown",
      "source": [
        "5. Write a code to replace the word \"apple\" with \"orange\" in the string \"I like apple\" ?"
      ],
      "metadata": {
        "id": "QHvvyLM7pmGc"
      }
    },
    {
      "cell_type": "code",
      "source": [
        "# Defining the string\n",
        "string = \"I like apple\"\n",
        "\n",
        "# Replacing 'apple' with 'orange'\n",
        "modified_string = string.replace(\"apple\", \"orange\")\n",
        "\n",
        "# Printing the modified string\n",
        "print(modified_string)\n"
      ],
      "metadata": {
        "colab": {
          "base_uri": "https://localhost:8080/"
        },
        "id": "9rszwZsypkNs",
        "outputId": "bd883b33-421b-40e5-efab-6e1393e8f335"
      },
      "execution_count": 5,
      "outputs": [
        {
          "output_type": "stream",
          "name": "stdout",
          "text": [
            "I like orange\n"
          ]
        }
      ]
    },
    {
      "cell_type": "markdown",
      "source": [
        "6. Write a code to create a list with numbers 1 to 5 and print it ?"
      ],
      "metadata": {
        "id": "f2-VxVAQp9eA"
      }
    },
    {
      "cell_type": "code",
      "source": [
        "# Creating the list with numbers 1 to 5\n",
        "numbers = [1, 2, 3, 4, 5]\n",
        "\n",
        "# Printing the list\n",
        "print(numbers)\n"
      ],
      "metadata": {
        "colab": {
          "base_uri": "https://localhost:8080/"
        },
        "id": "DoPDrqkep6w2",
        "outputId": "42ac2c3f-ff5d-4506-9219-a4f812d64ca6"
      },
      "execution_count": 6,
      "outputs": [
        {
          "output_type": "stream",
          "name": "stdout",
          "text": [
            "[1, 2, 3, 4, 5]\n"
          ]
        }
      ]
    },
    {
      "cell_type": "markdown",
      "source": [
        "7. Write a code to append the number 10 to the list [1, 2, 3, 4] ?"
      ],
      "metadata": {
        "id": "noRhlqAaqP2p"
      }
    },
    {
      "cell_type": "code",
      "source": [
        "# Defining the list\n",
        "numbers = [1, 2, 3, 4]\n",
        "\n",
        "# Appending the number 10 to the list\n",
        "numbers.append(10)\n",
        "\n",
        "# Printing the updated list\n",
        "print(numbers)\n"
      ],
      "metadata": {
        "colab": {
          "base_uri": "https://localhost:8080/"
        },
        "id": "ig26eU1cqL7-",
        "outputId": "e14fef6e-e49e-4941-dbda-62e7b72911cd"
      },
      "execution_count": 7,
      "outputs": [
        {
          "output_type": "stream",
          "name": "stdout",
          "text": [
            "[1, 2, 3, 4, 10]\n"
          ]
        }
      ]
    },
    {
      "cell_type": "markdown",
      "source": [
        "8. Write a code to remove the number 3 from the list [1, 2, 3, 4, 5]?"
      ],
      "metadata": {
        "id": "AlLBr2BdelCf"
      }
    },
    {
      "cell_type": "code",
      "source": [
        "# Defining the list\n",
        "numbers = [1, 2, 3, 4, 5]\n",
        "\n",
        "# Removing the number 3 from the list\n",
        "numbers.remove(3)\n",
        "\n",
        "# Printing the updated list\n",
        "print(numbers)\n"
      ],
      "metadata": {
        "colab": {
          "base_uri": "https://localhost:8080/"
        },
        "id": "E3C1ge3jex9k",
        "outputId": "837fb193-583f-459d-8bc9-bd37d32562f3"
      },
      "execution_count": 1,
      "outputs": [
        {
          "output_type": "stream",
          "name": "stdout",
          "text": [
            "[1, 2, 4, 5]\n"
          ]
        }
      ]
    },
    {
      "cell_type": "markdown",
      "source": [
        "9. Write a code to access the second element in the list ['a', 'b', 'c', 'd']?"
      ],
      "metadata": {
        "id": "9yURJ-Ige7Gr"
      }
    },
    {
      "cell_type": "code",
      "source": [
        "# Defining the list\n",
        "letters = ['a', 'b', 'c', 'd']\n",
        "\n",
        "# Accessing the second element (index 1)\n",
        "second_element = letters[1]\n",
        "\n",
        "# Printing the second element\n",
        "print(second_element)\n"
      ],
      "metadata": {
        "colab": {
          "base_uri": "https://localhost:8080/"
        },
        "id": "dSy4wet5fJzh",
        "outputId": "4b67c73a-c034-4ce4-ba41-a4a39442b8cd"
      },
      "execution_count": 2,
      "outputs": [
        {
          "output_type": "stream",
          "name": "stdout",
          "text": [
            "b\n"
          ]
        }
      ]
    },
    {
      "cell_type": "markdown",
      "source": [
        "10. Write a code to reverse the list [10, 20, 30, 40, 50]."
      ],
      "metadata": {
        "id": "Tonabp6BfNtn"
      }
    },
    {
      "cell_type": "code",
      "source": [
        "# Defining the list\n",
        "numbers = [10, 20, 30, 40, 50]\n",
        "\n",
        "# Reversing the list\n",
        "reversed_numbers = numbers[::-1]\n",
        "\n",
        "# Printing the reversed list\n",
        "print(reversed_numbers)\n"
      ],
      "metadata": {
        "colab": {
          "base_uri": "https://localhost:8080/"
        },
        "id": "5y-_XZVgqeRb",
        "outputId": "b705f2d0-76ec-46c4-e506-e93154c773a7"
      },
      "execution_count": 3,
      "outputs": [
        {
          "output_type": "stream",
          "name": "stdout",
          "text": [
            "[50, 40, 30, 20, 10]\n"
          ]
        }
      ]
    },
    {
      "cell_type": "markdown",
      "source": [
        "11.  Write a code to create a tuple with the elements 10, 20, 30 and print it."
      ],
      "metadata": {
        "id": "H7rxDq6efdK_"
      }
    },
    {
      "cell_type": "code",
      "source": [
        "# Creating the tuple\n",
        "my_tuple = (10, 20, 30)\n",
        "\n",
        "# Printing the tuple\n",
        "print(my_tuple)\n"
      ],
      "metadata": {
        "colab": {
          "base_uri": "https://localhost:8080/"
        },
        "id": "FHagFioLfoto",
        "outputId": "3a22f9e0-139a-475b-b1df-ae0c893828e5"
      },
      "execution_count": 4,
      "outputs": [
        {
          "output_type": "stream",
          "name": "stdout",
          "text": [
            "(10, 20, 30)\n"
          ]
        }
      ]
    },
    {
      "cell_type": "markdown",
      "source": [
        "12. Write a code to access the first element of the tuple ('apple', 'banana', 'cherry')."
      ],
      "metadata": {
        "id": "8tIu0xSjfrs-"
      }
    },
    {
      "cell_type": "code",
      "source": [
        "# Defining the tuple\n",
        "my_tuple = ('apple', 'banana', 'cherry')\n",
        "\n",
        "# Accessing the first element (index 0)\n",
        "first_element = my_tuple[0]\n",
        "\n",
        "# Printing the first element\n",
        "print(first_element)\n"
      ],
      "metadata": {
        "colab": {
          "base_uri": "https://localhost:8080/"
        },
        "id": "6csKPdndfYOa",
        "outputId": "98528f48-8d12-41b0-861c-a1ee66074021"
      },
      "execution_count": 5,
      "outputs": [
        {
          "output_type": "stream",
          "name": "stdout",
          "text": [
            "apple\n"
          ]
        }
      ]
    },
    {
      "cell_type": "markdown",
      "source": [
        "13. Write a code to count how many times the number 2 appears in the tuple (1, 2, 3, 2, 4, 2)."
      ],
      "metadata": {
        "id": "eOBkwt_of4JQ"
      }
    },
    {
      "cell_type": "code",
      "source": [
        "# Defining the tuple\n",
        "my_tuple = (1, 2, 3, 2, 4, 2)\n",
        "\n",
        "# Counting the occurrences of number 2\n",
        "count_of_2 = my_tuple.count(2)\n",
        "\n",
        "# Printing the count\n",
        "print(count_of_2)\n"
      ],
      "metadata": {
        "colab": {
          "base_uri": "https://localhost:8080/"
        },
        "id": "O-iWI1TfgBSR",
        "outputId": "2e966a5c-baab-4808-99f2-820b4c1c7c5e"
      },
      "execution_count": 6,
      "outputs": [
        {
          "output_type": "stream",
          "name": "stdout",
          "text": [
            "3\n"
          ]
        }
      ]
    },
    {
      "cell_type": "markdown",
      "source": [
        "14. Write a code to find the index of the element \"cat\" in the tuple ('dog', 'cat', 'rabbit')."
      ],
      "metadata": {
        "id": "VXSxMVYAgLDQ"
      }
    },
    {
      "cell_type": "code",
      "source": [
        "# Defining the tuple\n",
        "my_tuple = ('dog', 'cat', 'rabbit')\n",
        "\n",
        "# Finding the index of the element 'cat'\n",
        "index_of_cat = my_tuple.index('cat')\n",
        "\n",
        "# Printing the index\n",
        "print(index_of_cat)\n"
      ],
      "metadata": {
        "colab": {
          "base_uri": "https://localhost:8080/"
        },
        "id": "fLVr0UAGgSvn",
        "outputId": "e893bd4f-3101-49c9-f8a9-7240034439f9"
      },
      "execution_count": 7,
      "outputs": [
        {
          "output_type": "stream",
          "name": "stdout",
          "text": [
            "1\n"
          ]
        }
      ]
    },
    {
      "cell_type": "markdown",
      "source": [
        "15. Write a code to check if the element \"banana\" is in the tuple ('apple', 'orange', 'banana')."
      ],
      "metadata": {
        "id": "BYd354M3gV5t"
      }
    },
    {
      "cell_type": "code",
      "source": [
        "# Defining the tuple\n",
        "my_tuple = ('apple', 'orange', 'banana')\n",
        "\n",
        "# Checking if 'banana' is in the tuple\n",
        "is_banana_in_tuple = 'banana' in my_tuple\n",
        "\n",
        "# Printing the result\n",
        "print(is_banana_in_tuple)\n"
      ],
      "metadata": {
        "colab": {
          "base_uri": "https://localhost:8080/"
        },
        "id": "GBZdyfwKgiLK",
        "outputId": "0cdd4449-3a4e-4650-f18c-efbfe3d313d8"
      },
      "execution_count": 8,
      "outputs": [
        {
          "output_type": "stream",
          "name": "stdout",
          "text": [
            "True\n"
          ]
        }
      ]
    },
    {
      "cell_type": "markdown",
      "source": [
        "16. Write a code to create a set with the elements 1, 2, 3, 4, 5 and print it."
      ],
      "metadata": {
        "id": "63GOkMPogp67"
      }
    },
    {
      "cell_type": "code",
      "source": [
        "# Creating the set\n",
        "my_set = {1, 2, 3, 4, 5}\n",
        "\n",
        "# Printing the set\n",
        "print(my_set)\n"
      ],
      "metadata": {
        "colab": {
          "base_uri": "https://localhost:8080/"
        },
        "id": "Hkphzp_sf1zW",
        "outputId": "28f235e2-4bb7-450e-9663-731f657cbd79"
      },
      "execution_count": 9,
      "outputs": [
        {
          "output_type": "stream",
          "name": "stdout",
          "text": [
            "{1, 2, 3, 4, 5}\n"
          ]
        }
      ]
    },
    {
      "cell_type": "markdown",
      "source": [
        "17. Write a code to add the element 6 to the set {1, 2, 3, 4}."
      ],
      "metadata": {
        "id": "PG2ei90Egzpu"
      }
    },
    {
      "cell_type": "code",
      "source": [
        "# Defining the set\n",
        "my_set = {1, 2, 3, 4}\n",
        "\n",
        "# Adding the element 6 to the set\n",
        "my_set.add(6)\n",
        "\n",
        "# Printing the updated set\n",
        "print(my_set)\n"
      ],
      "metadata": {
        "colab": {
          "base_uri": "https://localhost:8080/"
        },
        "id": "49be41Plgx5f",
        "outputId": "bac21e13-f593-4bd8-8244-34ad6c83f73e"
      },
      "execution_count": 10,
      "outputs": [
        {
          "output_type": "stream",
          "name": "stdout",
          "text": [
            "{1, 2, 3, 4, 6}\n"
          ]
        }
      ]
    },
    {
      "cell_type": "markdown",
      "source": [
        "18. Write a code to create a tuple with the elements 10, 20, 30 and print it."
      ],
      "metadata": {
        "id": "gargA5yghDim"
      }
    },
    {
      "cell_type": "code",
      "source": [
        "# Creating the tuple\n",
        "my_tuple = (10, 20, 30)\n",
        "\n",
        "# Printing the tuple\n",
        "print(my_tuple)\n"
      ],
      "metadata": {
        "colab": {
          "base_uri": "https://localhost:8080/"
        },
        "id": "aOumUfd9hPPA",
        "outputId": "a48d0f44-da31-4dc1-f66b-8b09715a087d"
      },
      "execution_count": 11,
      "outputs": [
        {
          "output_type": "stream",
          "name": "stdout",
          "text": [
            "(10, 20, 30)\n"
          ]
        }
      ]
    },
    {
      "cell_type": "markdown",
      "source": [
        "19. Write a code to access the first element of the tuple ('apple', 'banana', 'cherry')."
      ],
      "metadata": {
        "id": "uuTqkMPUhV5h"
      }
    },
    {
      "cell_type": "code",
      "source": [
        "# Defining the tuple\n",
        "my_tuple = ('apple', 'banana', 'cherry')\n",
        "\n",
        "# Accessing the first element (index 0)\n",
        "first_element = my_tuple[0]\n",
        "\n",
        "# Printing the first element\n",
        "print(first_element)\n"
      ],
      "metadata": {
        "colab": {
          "base_uri": "https://localhost:8080/"
        },
        "id": "Q34ZgI5qhboC",
        "outputId": "b5a54ec0-7161-4863-9b90-5b3b020d5f49"
      },
      "execution_count": 12,
      "outputs": [
        {
          "output_type": "stream",
          "name": "stdout",
          "text": [
            "apple\n"
          ]
        }
      ]
    },
    {
      "cell_type": "markdown",
      "source": [
        "20. Write a code to count how many times the number 2 appears in the tuple (1, 2, 3, 2, 4, 2)."
      ],
      "metadata": {
        "id": "TZ8S0Lsehf6s"
      }
    },
    {
      "cell_type": "code",
      "source": [
        "# Defining the tuple\n",
        "my_tuple = (1, 2, 3, 2, 4, 2)\n",
        "\n",
        "# Counting the occurrences of number 2\n",
        "count_of_2 = my_tuple.count(2)\n",
        "\n",
        "# Printing the count\n",
        "print(count_of_2)\n"
      ],
      "metadata": {
        "colab": {
          "base_uri": "https://localhost:8080/"
        },
        "id": "rFlcLTR-hmGo",
        "outputId": "a5e7887b-76b6-4522-c341-711ccbf31174"
      },
      "execution_count": 13,
      "outputs": [
        {
          "output_type": "stream",
          "name": "stdout",
          "text": [
            "3\n"
          ]
        }
      ]
    },
    {
      "cell_type": "markdown",
      "source": [
        "21. Write a code to find the index of the element \"cat\" in the tuple ('dog', 'cat', 'rabbit')."
      ],
      "metadata": {
        "id": "Akb-enYEhoay"
      }
    },
    {
      "cell_type": "code",
      "source": [
        "# Defining the tuple\n",
        "my_tuple = ('dog', 'cat', 'rabbit')\n",
        "\n",
        "# Finding the index of the element 'cat'\n",
        "index_of_cat = my_tuple.index('cat')\n",
        "\n",
        "# Printing the index\n",
        "print(index_of_cat)\n"
      ],
      "metadata": {
        "colab": {
          "base_uri": "https://localhost:8080/"
        },
        "id": "FzqB0L4Wh2mY",
        "outputId": "a7136b79-dd86-475a-b972-8aed9157cc28"
      },
      "execution_count": 14,
      "outputs": [
        {
          "output_type": "stream",
          "name": "stdout",
          "text": [
            "1\n"
          ]
        }
      ]
    },
    {
      "cell_type": "markdown",
      "source": [
        "22. Write a code to check if the element \"banana\" is in the tuple ('apple', 'orange', 'banana')."
      ],
      "metadata": {
        "id": "W0EiAndqh7-y"
      }
    },
    {
      "cell_type": "code",
      "source": [
        "# Defining the tuple\n",
        "my_tuple = ('apple', 'orange', 'banana')\n",
        "\n",
        "# Checking if 'banana' is in the tuple\n",
        "is_banana_in_tuple = 'banana' in my_tuple\n",
        "\n",
        "# Printing the result\n",
        "print(is_banana_in_tuple)\n"
      ],
      "metadata": {
        "colab": {
          "base_uri": "https://localhost:8080/"
        },
        "id": "36ZrinOMiCaM",
        "outputId": "72036784-3820-41b8-f7f2-d08a58bcb19b"
      },
      "execution_count": 15,
      "outputs": [
        {
          "output_type": "stream",
          "name": "stdout",
          "text": [
            "True\n"
          ]
        }
      ]
    },
    {
      "cell_type": "markdown",
      "source": [
        "23. Write a code to create a set with the elements 1, 2, 3, 4, 5 and print it."
      ],
      "metadata": {
        "id": "jFQMGFImiYgg"
      }
    },
    {
      "cell_type": "code",
      "source": [
        "# Defining the tuple\n",
        "my_tuple = ('dog', 'cat', 'rabbit')\n",
        "\n",
        "# Finding the index of the element 'cat'\n",
        "index_of_cat = my_tuple.index('cat')\n",
        "\n",
        "# Printing the index\n",
        "print(index_of_cat)\n"
      ],
      "metadata": {
        "colab": {
          "base_uri": "https://localhost:8080/"
        },
        "id": "4HkokZERihz2",
        "outputId": "a6a5cebb-e6f3-4586-efd5-20dad9b9537b"
      },
      "execution_count": 16,
      "outputs": [
        {
          "output_type": "stream",
          "name": "stdout",
          "text": [
            "1\n"
          ]
        }
      ]
    },
    {
      "cell_type": "markdown",
      "source": [
        "24. Write a code to add the element 6 to the set {1, 2, 3, 4}."
      ],
      "metadata": {
        "id": "maJPQJ9fil34"
      }
    },
    {
      "cell_type": "code",
      "source": [
        "# Defining the set\n",
        "my_set = {1, 2, 3, 4}\n",
        "\n",
        "# Adding the element 6 to the set\n",
        "my_set.add(6)\n",
        "\n",
        "# Printing the updated set\n",
        "print(my_set)\n"
      ],
      "metadata": {
        "id": "-RIVFHVZiy6d",
        "outputId": "0e267dca-d7cb-4076-ee02-06d50873aa5d",
        "colab": {
          "base_uri": "https://localhost:8080/"
        }
      },
      "execution_count": 17,
      "outputs": [
        {
          "output_type": "stream",
          "name": "stdout",
          "text": [
            "{1, 2, 3, 4, 6}\n"
          ]
        }
      ]
    },
    {
      "cell_type": "code",
      "source": [],
      "metadata": {
        "id": "j5UiCjJthA2e"
      },
      "execution_count": 14,
      "outputs": []
    }
  ]
}